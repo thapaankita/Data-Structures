{
  "nbformat": 4,
  "nbformat_minor": 0,
  "metadata": {
    "colab": {
      "provenance": []
    },
    "kernelspec": {
      "name": "python3",
      "display_name": "Python 3"
    },
    "language_info": {
      "name": "python"
    }
  },
  "cells": [
    {
      "cell_type": "markdown",
      "source": [
        "#**BASIC QUESTIONS ON DATA TYPES AND STRUCTURES**"
      ],
      "metadata": {
        "id": "LurYEj1hchLD"
      }
    },
    {
      "cell_type": "markdown",
      "source": [
        "###Q1. What are data structures, and why are they important?\n",
        "- **Definition:**  A data structure is a way of organizing and storing data in a computer so that it can be accessed and used efficiently. It refers to the logical or mathematical representation of data, as well as the implementation in a computer program.\n",
        "\n",
        "  - **Importance:**\n",
        "\n",
        "     - **Efficient Data Management:** Proper data structures allow for quick data retrieval and storage, which is crucial for performance. For instance, using a hash table can provide constant-time complexity for search operations.\n",
        "\n",
        "     - **Algorithm Optimization:** The choice of data structure directly impacts the efficiency of algorithms. Selecting the appropriate structure can reduce time and space complexity, leading to faster and more resource-efficient programs.\n",
        "\n",
        "     - **Real-World Problem Modeling:** Data structures help in modeling real-world scenarios effectively. For example, a queue data structure can represent a line of customers, ensuring first-come, first-served processing.\n",
        "\n",
        "     - **Foundation for Advanced Topics:** Understanding data structures is fundamental for studying advanced computer science topics like databases, artificial intelligence, and machine learning, where data organization plays a pivotal role.\n",
        "\n",
        "\n",
        "###Q2. Explain the difference between mutable and immutable data types with examplesp.\n",
        " - **Difference Between Mutable and Immutable Data Types:**\n",
        "\n",
        "     In Python, mutable data types are the ones whose values can be changed after they are created. On the other hand, immutable data types cannot be changed once they are created. If you try to change them, a new object is created instead.\n",
        "\n",
        "- **Examples:**"
      ],
      "metadata": {
        "id": "jFHPSzjodPa-"
      }
    },
    {
      "cell_type": "code",
      "source": [
        "# Mutable example: List\n",
        "my_list = [1, 2, 3]\n",
        "my_list.append(4)  # Modifies the original list\n",
        "print(\"Mutable (List):\", my_list)\n",
        "\n",
        "# Immutable example: String\n",
        "my_str = \"hello\"\n",
        "my_str = my_str + \" world\"  # Creates a new string\n",
        "print(\"Immutable (String):\", my_str)\n"
      ],
      "metadata": {
        "colab": {
          "base_uri": "https://localhost:8080/"
        },
        "id": "0mQ9qatTsean",
        "outputId": "5943baf8-ee90-4a36-e5c4-fd927687950d"
      },
      "execution_count": null,
      "outputs": [
        {
          "output_type": "stream",
          "name": "stdout",
          "text": [
            "Mutable (List): [1, 2, 3, 4]\n",
            "Immutable (String): hello world\n"
          ]
        }
      ]
    },
    {
      "cell_type": "markdown",
      "source": [
        "###Q3. What are the main differences between lists and tuples in Python?\n",
        " - **Main Differences Between Lists and Tuples in Python:**\n",
        "\n",
        "     1. **Mutability:**\n",
        "\n",
        "        - Lists are **mutable-** you can change, add, or remove items.\n",
        "\n",
        "        - Tuples are **immutable-*** once created, their values cannot be changed.\n",
        "\n",
        "     2. **Syntax:**\n",
        "\n",
        "       - Lists use **square brackets:** [1, 2, 3]\n",
        "\n",
        "       - Tuples use **parentheses:** (1, 2, 3)\n",
        "\n",
        "     3. **Performance:**\n",
        "\n",
        "       - Tuples are slightly **faster** and take up less memory because they don't change.\n",
        "\n",
        "     4. **Use Case:**\n",
        "\n",
        "      - Use a list when the data might change.\n",
        "\n",
        "      - Use a tuple when the data should stay the same.\n",
        "\n",
        "###Q4. Describe how dictionaries store data.\n",
        "Dictionaries in Python store data using **key-value pairs**. Each key is unique and is used to access the value connected to it. This makes it easy to look up, add, or change values based on the key. Dictionaries are written using curly braces {}, with keys and values separated by a colon.\n",
        "   - **Example**"
      ],
      "metadata": {
        "id": "kSIT9X1LpFAM"
      }
    },
    {
      "cell_type": "code",
      "source": [
        "student = {\"name\": \"Ali\", \"age\": 18}\n",
        "print(student[\"name\"])  # Output: Ali\n"
      ],
      "metadata": {
        "colab": {
          "base_uri": "https://localhost:8080/"
        },
        "id": "tCAxmMk42SLm",
        "outputId": "cf504f7a-485b-406d-b85c-7d6d9848acae"
      },
      "execution_count": null,
      "outputs": [
        {
          "output_type": "stream",
          "name": "stdout",
          "text": [
            "Ali\n"
          ]
        }
      ]
    },
    {
      "cell_type": "markdown",
      "source": [
        "###Q5. Why might you use a set instead of a list in Python?\n",
        "   You might use a set instead of a list in Python when you need to store unique values and don’t care about keeping the order of items. Sets automatically remove duplicates, so they’re useful when you want to eliminate repeated entries without writing extra code. They also allow faster checks to see if an item exists in the collection compared to lists. This makes sets a better choice for tasks like filtering unique data or performing operations like finding common elements between two groups.\n",
        "\n",
        "###Q6. What is a string in Python, and how is it different from a list?\n",
        "  - **Definition:** A string in Python is a sequence of characters, like \"hello\". It is immutable, meaning you can’t change its characters once it’s created.\n",
        "A list is a collection of items (like numbers or strings) and is mutable, so you can add, remove, or change elements.\n",
        "\n",
        " - **For example:** string = \"hello\", list_example = [\"h\", \"e\", \"l\", \"l\", \"o\"]\n",
        "So, strings are used for text, and lists can hold many types of data and be modified.\n",
        "\n",
        "###7. How do tuples ensure data integrity in Python?\n",
        " - Tuples are **immutable** (cannot be changed after creation).\n",
        "\n",
        " - This helps prevent **accidental changes** to data.\n",
        "\n",
        " - They are useful when you want to store **fixed or constant values**.\n",
        "\n",
        " - Helps keep the data **safe and consistent** throughout the program.\n",
        "\n",
        "###Q8.What is a hash table, and how does it relate to dictionaries in Python?\n",
        " - A **hash table** is a data structure that stores data using a key-value system.\n",
        "\n",
        " - It uses a **hash function** to convert keys into unique indexes.\n",
        "\n",
        " - In Python, **dictionaries** are built using hash tables internally.\n",
        "\n",
        " - This allows for **fast access**, insertion, and deletion of values using keys.\n",
        "\n",
        " - Keys must be **unique and hashable** (like strings, numbers, or tuples).\n",
        "\n",
        "###Q9. Can lists contain different data types in Python?\n",
        " - Yes, lists in Python can hold items of **different data types**.\n",
        "\n",
        " - A single list can contain **integers, strings, floats, booleans**, or even other lists.\n",
        "\n",
        " - This makes lists very **flexible** and useful for storing mixed data.\n",
        "\n",
        "###Q10. Explain why strings are immutable in Python?\n",
        " - **Strings are immutable**, meaning they **cannot be changed** after they are created.\n",
        "\n",
        " - This means any operation that modifies a string actually **creates a new string**.\n",
        "\n",
        " - It helps make programs more **safe and predictable**, especially when strings are shared across different parts of the code.\n",
        "\n",
        " - Immutability also allows strings to be used as **keys in dictionaries**.\n",
        "\n",
        "\n",
        "###Q11. What advantages do dictionaries offer over lists for certain tasks?\n",
        " - **Advantages of dictionaries over lists:**\n",
        "\n",
        " - **Faster lookups:** Dictionaries allow quick access to values using keys, while lists may require looping through elements.\n",
        "\n",
        " - **Key-value pairing:** Useful for storing related data (e.g., names and scores) in a way that's easy to read and manage.\n",
        "\n",
        " - **No need to remember indexes:** You can access data using meaningful keys instead of numeric positions.\n",
        "\n",
        " - **Flexible data storage:** Dictionaries can hold different data types as keys and values.\n",
        "\n",
        " - **Easier data updates:** Updating a value in a dictionary is simple and direct using the key.\n",
        "\n",
        "###Q12. Describe a scenario where using a tuple would be preferable over a list?\n",
        "   A tuple would be preferable over a list when you want to store a fixed set of values that shouldn’t change.\n",
        "  \n",
        "  -  For example, if you’re working with the coordinates of a point on a graph, like (x, y), a tuple is a good choice because those values represent a single item and aren’t meant to be modified. Tuples also use less memory and can be slightly faster than lists, which makes them useful for storing constant data.\n",
        "\n",
        "###Q13. How do sets handle duplicate values in Python?\n",
        "   In Python, sets do not allow duplicate values. If you try to add the same value more than once, the set will only keep one copy of it. This means any duplicates are automatically removed, and only unique items are stored. This behavior makes sets especially useful when you need to filter out repeated elements from a list or any other collection.\n",
        "\n",
        "###Q14. How does the “in” keyword work differently for lists and dictionaries?\n",
        "   The in keyword works differently for lists and dictionaries in Python. When used with a **list**, it checks whether a specific value exists within the list. The in keyword searches through the list to find the value. However, when used with a **dictionary**, it checks whether a specific **key** exists in the dictionary. The in keyword does not check the values; it only looks for the presence of the key.\n",
        "\n",
        "###Q15. Can you modify the elements of a tuple? Explain why or why not?\n",
        "   No, you cannot modify the elements of a tuple in Python. Tuples are **immutable**, which means that once a tuple is created, its contents cannot be changed, added, or removed. This immutability is a core feature of tuples, and it is designed to make them reliable for storing data that should not be altered accidentally.\n",
        "\n",
        "   The key reason behind this immutability is that tuples are typically used to represent fixed collections of data. For example, they are often used to store coordinates or constant values that should remain unchanged throughout the program. The immutability also allows tuples to be used as keys in dictionaries, unlike lists, which are mutable and cannot be used as dictionary keys.\n",
        "\n",
        "   If you need to modify the elements of a tuple, you would need to create a new tuple by combining existing tuples or altering the data in some other way. This feature of tuples makes them memory efficient and provides a guarantee that their data will remain constant once created.\n",
        "\n",
        "###Q16. What is a nested dictionary, and give an example of its use case?\n",
        "A **nested dictionary** is a dictionary where one or more of its values are themselves dictionaries. This allows you to create complex data structures, like storing multiple sets of related data in a single dictionary. Each \"inner\" dictionary can be accessed using keys, making it possible to organize and retrieve data in a structured way.\n",
        "\n",
        " - **Use case:**\n",
        "\n",
        "  A common use case for a nested dictionary is storing data like student records in a school system. For example, you could use a nested dictionary to store a list of students, where each student has their own set of attributes such as age, grade, and test scores.\n",
        "\n",
        " - **Example:**"
      ],
      "metadata": {
        "id": "Nfu_luijz1Eo"
      }
    },
    {
      "cell_type": "code",
      "source": [
        "# Example of a nested dictionary with student records\n",
        "students = {\n",
        "    \"Alice\": {\"age\": 15, \"grade\": \"10th\", \"scores\": {\"math\": 95, \"science\": 89}},\n",
        "    \"Bob\": {\"age\": 16, \"grade\": \"11th\", \"scores\": {\"math\": 88, \"science\": 92}},\n",
        "    \"Charlie\": {\"age\": 14, \"grade\": \"9th\", \"scores\": {\"math\": 78, \"science\": 85}}\n",
        "}\n",
        "\n",
        "# Accessing Alice's math score\n",
        "print(students[\"Alice\"][\"scores\"][\"math\"])  # Output: 95"
      ],
      "metadata": {
        "colab": {
          "base_uri": "https://localhost:8080/"
        },
        "id": "hg35Eb35M8YG",
        "outputId": "2e1d3465-470e-4735-c145-172f16015c10"
      },
      "execution_count": null,
      "outputs": [
        {
          "output_type": "stream",
          "name": "stdout",
          "text": [
            "95\n"
          ]
        }
      ]
    },
    {
      "cell_type": "markdown",
      "source": [
        "###Q17. Describe the time complexity of accessing elements in a dictionary?\n",
        "Accessing elements in a dictionary in Python has an average time complexity of **O(1)**, which means it takes constant time regardless of the size of the dictionary. This efficiency is due to the underlying **hash table** implementation of dictionaries. When you access a value using a key, Python uses the hash of that key to quickly find the corresponding value without searching through all elements.\n",
        "\n",
        "However, in rare cases where there are **hash collisions**, the time complexity can degrade to **O(n)** in the worst case, where n is the number of elements in the dictionary. But in practice, Python's hash function and collision-handling mechanisms make such cases uncommon, so dictionary access is considered very efficient for most use cases.\n",
        "\n",
        "###Q18. In what situations are lists preferred over dictionaries?\n",
        "**Lists** are preferred over dictionaries when the order of elements matters or when you simply need to store a collection of items without needing to associate them with unique keys. Lists are ideal for **sequential data**, where each element is accessed by its position (index), such as when you're iterating through items, storing a to-do list, or working with ordered datasets like time series.\n",
        "\n",
        "They are also easier to use when the data is relatively simple and doesn't require labeled access. For example, storing the names of students in a class or a list of numbers for a calculation would be more straightforward with a list. Additionally, lists preserve insertion order and support duplicate values, which can be important in certain use cases.\n",
        "\n",
        "###19. Why are dictionaries considered unordered, and how does that affect data retrieval?\n",
        "Dictionaries were traditionally considered unordered because they did not maintain the order in which key-value pairs were added. In older versions of Python (before 3.7), the order of items in a dictionary was not guaranteed, meaning if you inserted items in a certain sequence, that order might not be preserved when accessing or iterating over the dictionary.\n",
        "\n",
        "However, starting with Python 3.7 and officially in Python 3.8, dictionaries **do maintain insertion order**. This means items will come out in the same order you added them when looping through the dictionary. Despite this, dictionaries are still primarily designed for **fast key-based access**, not for ordered operations like lists.\n",
        "\n",
        "The concept of being “unordered” originally affected how you retrieved or displayed data—you couldn't rely on the order of items. Today, while you can rely on insertion order for iteration, you still **access values by key**, not by position, which is the main difference compared to ordered structures like lists.\n",
        "\n",
        "###Q20. Explain the difference between a list and a dictionary in terms of data retrieval.\n",
        "The main difference between a **list** and a **dictionary** in terms of data retrieval lies in how the data is accessed. In a **list**, elements are retrieved using **integer indexes** that represent their position in the sequence, starting from 0. This means you have to know or loop through the position of the item to access it. In contrast, a **dictionary** retrieves data using **unique keys** that are assigned to each value, allowing you to access specific information directly without knowing its position. This makes dictionaries faster and more efficient for retrieving values when you know the key, while lists are better suited for ordered collections where position matters."
      ],
      "metadata": {
        "id": "WFdlTsV0NPGV"
      }
    },
    {
      "cell_type": "markdown",
      "source": [
        "#**PRACTICAL QUESTIONS ON DATA TYPES AND STRUCTURES.**\n",
        "\n"
      ],
      "metadata": {
        "id": "uNFYUuLvRy1Z"
      }
    },
    {
      "cell_type": "markdown",
      "source": [
        "###Q1. Write a code to create a string with your name and print it.\n"
      ],
      "metadata": {
        "id": "K6AES1vWR0AZ"
      }
    },
    {
      "cell_type": "code",
      "source": [
        "# Creating a string with my name and printing it\n",
        "name = \"Ankita Thapa\"  # Replace with your name\n",
        "print(name)\n"
      ],
      "metadata": {
        "colab": {
          "base_uri": "https://localhost:8080/"
        },
        "id": "ryo1mP_tTBa8",
        "outputId": "a3592345-6f08-4389-da0f-d15245f13618"
      },
      "execution_count": null,
      "outputs": [
        {
          "output_type": "stream",
          "name": "stdout",
          "text": [
            "Ankita Thapa\n"
          ]
        }
      ]
    },
    {
      "cell_type": "markdown",
      "source": [
        "###Q2.  Write a code to find the length of the string \"Hello World\"."
      ],
      "metadata": {
        "id": "ynJ0gyPNTJkq"
      }
    },
    {
      "cell_type": "code",
      "source": [
        "# Finding the length of the string \"Hello World\"\n",
        "string = \"Hello World\"\n",
        "length = len(string)  # Using the len() function to get the length\n",
        "print(\"Length of the string is:\", length)\n"
      ],
      "metadata": {
        "colab": {
          "base_uri": "https://localhost:8080/"
        },
        "id": "DH4QvgMzTTUC",
        "outputId": "11d99663-7cce-4704-ea14-917d9c0321fb"
      },
      "execution_count": null,
      "outputs": [
        {
          "output_type": "stream",
          "name": "stdout",
          "text": [
            "Length of the string is: 11\n"
          ]
        }
      ]
    },
    {
      "cell_type": "markdown",
      "source": [
        "###Q3. Write a code to slice the first 3 characters from the string \"Python Programming\".\n"
      ],
      "metadata": {
        "id": "9JKbe2wNTddl"
      }
    },
    {
      "cell_type": "code",
      "source": [
        "# Slicing the first 3 characters from the string \"Python Programming\"\n",
        "string = \"Python Programming\"\n",
        "sliced_string = string[:3]  # Slicing the string to get the first 3 characters\n",
        "print(\"Sliced string is:\", sliced_string)\n"
      ],
      "metadata": {
        "colab": {
          "base_uri": "https://localhost:8080/"
        },
        "id": "PX-vOjYST3Vi",
        "outputId": "261371df-89af-4708-b5e8-4353ee9ed43d"
      },
      "execution_count": null,
      "outputs": [
        {
          "output_type": "stream",
          "name": "stdout",
          "text": [
            "Sliced string is: Pyt\n"
          ]
        }
      ]
    },
    {
      "cell_type": "markdown",
      "source": [
        "###Q4. Write a code to convert the string \"hello\" to uppercase."
      ],
      "metadata": {
        "id": "KGfIl8-TT5lj"
      }
    },
    {
      "cell_type": "code",
      "source": [
        "# Converting the string \"hello\" to uppercase\n",
        "string = \"hello\"\n",
        "uppercase_string = string.upper()  # Using the upper() method to convert to uppercase\n",
        "print(\"Uppercase string is:\", uppercase_string)\n"
      ],
      "metadata": {
        "colab": {
          "base_uri": "https://localhost:8080/"
        },
        "id": "gcbgxACsUFGz",
        "outputId": "a1487bc8-a4fb-499d-f939-801d0c653d05"
      },
      "execution_count": null,
      "outputs": [
        {
          "output_type": "stream",
          "name": "stdout",
          "text": [
            "Uppercase string is: HELLO\n"
          ]
        }
      ]
    },
    {
      "cell_type": "markdown",
      "source": [
        "###Q5.  Write a code to replace the word \"apple\" with \"orange\" in the string \"I like apple\"."
      ],
      "metadata": {
        "id": "F26Ntk-AULP9"
      }
    },
    {
      "cell_type": "code",
      "source": [
        "# Replacing the word \"apple\" with \"orange\" in the string\n",
        "string = \"I like apple\"\n",
        "modified_string = string.replace(\"apple\", \"orange\")  # Using the replace() method\n",
        "print(\"Modified string is:\", modified_string)\n"
      ],
      "metadata": {
        "colab": {
          "base_uri": "https://localhost:8080/"
        },
        "id": "lUNUjSLaUE2J",
        "outputId": "54d9b449-747d-41be-89c0-4430618da96e"
      },
      "execution_count": null,
      "outputs": [
        {
          "output_type": "stream",
          "name": "stdout",
          "text": [
            "Modified string is: I like orange\n"
          ]
        }
      ]
    },
    {
      "cell_type": "markdown",
      "source": [
        "###Q6. Write a code to create a list with numbers 1 to 5 and print it."
      ],
      "metadata": {
        "id": "JDvJkFf_Uj3c"
      }
    },
    {
      "cell_type": "code",
      "source": [
        "# Creating a list with numbers 1 to 5\n",
        "numbers = [1, 2, 3, 4, 5]\n",
        "print(\"List of numbers:\", numbers)\n"
      ],
      "metadata": {
        "colab": {
          "base_uri": "https://localhost:8080/"
        },
        "id": "YRTjydocU7av",
        "outputId": "3509efbd-5edc-4489-f467-3aa32113063d"
      },
      "execution_count": null,
      "outputs": [
        {
          "output_type": "stream",
          "name": "stdout",
          "text": [
            "List of numbers: [1, 2, 3, 4, 5]\n"
          ]
        }
      ]
    },
    {
      "cell_type": "markdown",
      "source": [
        "###Q7. Write a code to append the number 10 to the list [1, 2, 3, 4]."
      ],
      "metadata": {
        "id": "ztWlTlIRVFMF"
      }
    },
    {
      "cell_type": "code",
      "source": [
        "# Appending the number 10 to the list [1, 2, 3, 4]\n",
        "numbers = [1, 2, 3, 4]\n",
        "numbers.append(10)  # Using the append() method to add 10 to the list\n",
        "print(\"Updated list:\", numbers)\n"
      ],
      "metadata": {
        "colab": {
          "base_uri": "https://localhost:8080/"
        },
        "id": "Q10c5ZFkVTog",
        "outputId": "a352eac5-4d62-417c-8107-f163fa7e165b"
      },
      "execution_count": null,
      "outputs": [
        {
          "output_type": "stream",
          "name": "stdout",
          "text": [
            "Updated list: [1, 2, 3, 4, 10]\n"
          ]
        }
      ]
    },
    {
      "cell_type": "markdown",
      "source": [
        "###Q8. Write a code to remove the number 3 from the list [1, 2, 3, 4, 5]."
      ],
      "metadata": {
        "id": "jVc8EnfXVY1R"
      }
    },
    {
      "cell_type": "code",
      "source": [
        "# Removing the number 3 from the list [1, 2, 3, 4, 5]\n",
        "numbers = [1, 2, 3, 4, 5]\n",
        "numbers.remove(3)  # Using the remove() method to remove the first occurrence of 3\n",
        "print(\"Updated list:\", numbers)\n"
      ],
      "metadata": {
        "colab": {
          "base_uri": "https://localhost:8080/"
        },
        "id": "3_K4DmOzWUGC",
        "outputId": "545669ac-0882-48ed-c961-3575a0beadea"
      },
      "execution_count": null,
      "outputs": [
        {
          "output_type": "stream",
          "name": "stdout",
          "text": [
            "Updated list: [1, 2, 4, 5]\n"
          ]
        }
      ]
    },
    {
      "cell_type": "markdown",
      "source": [
        "###Q9. Write a code to access the second element in the list ['a', 'b', 'c', 'd'].#"
      ],
      "metadata": {
        "id": "nMPsZ7jqWZk8"
      }
    },
    {
      "cell_type": "code",
      "source": [
        "# Accessing the second element in the list ['a', 'b', 'c', 'd']\n",
        "letters = ['a', 'b', 'c', 'd']\n",
        "second_element = letters[1]  # List indexing starts at 0, so index 1 refers to the second element\n",
        "print(\"Second element is:\", second_element)\n"
      ],
      "metadata": {
        "colab": {
          "base_uri": "https://localhost:8080/"
        },
        "id": "aKYPaAMbXHTf",
        "outputId": "d71c482f-e225-4d19-fd92-2c446e0b1ea5"
      },
      "execution_count": null,
      "outputs": [
        {
          "output_type": "stream",
          "name": "stdout",
          "text": [
            "Second element is: b\n"
          ]
        }
      ]
    },
    {
      "cell_type": "markdown",
      "source": [
        "###Q10.  Write a code to reverse the list [10, 20, 30, 40, 50].\n"
      ],
      "metadata": {
        "id": "H7UiSAefXLrH"
      }
    },
    {
      "cell_type": "code",
      "source": [
        "# Reversing the list [10, 20, 30, 40, 50]\n",
        "numbers = [10, 20, 30, 40, 50]\n",
        "numbers.reverse()  # Using the reverse() method to reverse the list in place\n",
        "print(\"Reversed list:\", numbers)\n"
      ],
      "metadata": {
        "colab": {
          "base_uri": "https://localhost:8080/"
        },
        "id": "XQ7j37IFXXIb",
        "outputId": "e78e5f14-e633-4a55-bac2-3fd2ceeed152"
      },
      "execution_count": null,
      "outputs": [
        {
          "output_type": "stream",
          "name": "stdout",
          "text": [
            "Reversed list: [50, 40, 30, 20, 10]\n"
          ]
        }
      ]
    },
    {
      "cell_type": "markdown",
      "source": [
        "###Q11. Write a code to create a tuple with the elements 100, 200, 300 and print it."
      ],
      "metadata": {
        "id": "pfp4PGeyXj55"
      }
    },
    {
      "cell_type": "code",
      "source": [
        "# Creating a tuple with the elements 100, 200, 300\n",
        "my_tuple = (100, 200, 300)\n",
        "\n",
        "# Printing the tuple\n",
        "print(\"Tuple is:\", my_tuple)\n"
      ],
      "metadata": {
        "colab": {
          "base_uri": "https://localhost:8080/"
        },
        "id": "zvXiiXrrZQOU",
        "outputId": "a71525d6-774b-4235-a66a-3548242bb9f4"
      },
      "execution_count": null,
      "outputs": [
        {
          "output_type": "stream",
          "name": "stdout",
          "text": [
            "Tuple is: (100, 200, 300)\n"
          ]
        }
      ]
    },
    {
      "cell_type": "markdown",
      "source": [
        "###Q12.  Write a code to access the second-to-last element of the tuple ('red', 'green', 'blue', 'yellow')."
      ],
      "metadata": {
        "id": "VKolK5bPZYQy"
      }
    },
    {
      "cell_type": "code",
      "source": [
        "# Tuple with colors\n",
        "colors = ('red', 'green', 'blue', 'yellow')\n",
        "\n",
        "# Accessing the second-to-last element\n",
        "second_to_last = colors[-2]  # Negative indexing starts from the end, so -2 refers to the second-to-last element\n",
        "print(\"Second-to-last element is:\", second_to_last)\n"
      ],
      "metadata": {
        "colab": {
          "base_uri": "https://localhost:8080/"
        },
        "id": "K4EKQqxOZjRb",
        "outputId": "0f104fed-929c-41a6-f4bc-f9eeb8c986a3"
      },
      "execution_count": null,
      "outputs": [
        {
          "output_type": "stream",
          "name": "stdout",
          "text": [
            "Second-to-last element is: blue\n"
          ]
        }
      ]
    },
    {
      "cell_type": "markdown",
      "source": [
        "###Q13.Write a code to find the minimum number in the tuple (10, 20, 5, 15)."
      ],
      "metadata": {
        "id": "ZPXn5yeWZ9rD"
      }
    },
    {
      "cell_type": "code",
      "source": [
        "# Tuple with numbers\n",
        "numbers = (10, 20, 5, 15)\n",
        "\n",
        "# Finding the minimum number using the min() function\n",
        "min_number = min(numbers)\n",
        "\n",
        "# Printing the minimum number\n",
        "print(\"Minimum number is:\", min_number)\n"
      ],
      "metadata": {
        "colab": {
          "base_uri": "https://localhost:8080/"
        },
        "id": "De1pqarAaCkI",
        "outputId": "a3ea609c-eae5-489d-ee3d-3d71d8a9778f"
      },
      "execution_count": null,
      "outputs": [
        {
          "output_type": "stream",
          "name": "stdout",
          "text": [
            "Minimum number is: 5\n"
          ]
        }
      ]
    },
    {
      "cell_type": "markdown",
      "source": [
        "###Q14.  Write a code to find the index of the element \"cat\" in the tuple ('dog', 'cat', 'rabbit')."
      ],
      "metadata": {
        "id": "EHCQiqxqaNwe"
      }
    },
    {
      "cell_type": "code",
      "source": [
        "# Tuple with animals\n",
        "animals = ('dog', 'cat', 'rabbit')\n",
        "\n",
        "# Finding the index of the element \"cat\"\n",
        "index_of_cat = animals.index('cat')\n",
        "\n",
        "# Printing the index of \"cat\"\n",
        "print(\"Index of 'cat' is:\", index_of_cat)\n"
      ],
      "metadata": {
        "colab": {
          "base_uri": "https://localhost:8080/"
        },
        "id": "_FXcJrLTagiL",
        "outputId": "da8bd426-ace3-4f9c-ed27-7911af52c99e"
      },
      "execution_count": null,
      "outputs": [
        {
          "output_type": "stream",
          "name": "stdout",
          "text": [
            "Index of 'cat' is: 1\n"
          ]
        }
      ]
    },
    {
      "cell_type": "markdown",
      "source": [
        "###Q15.  Write a code to create a tuple containing three different fruits and check if \"kiwi\".\n"
      ],
      "metadata": {
        "id": "XMIva5uTapYz"
      }
    },
    {
      "cell_type": "code",
      "source": [
        "# Creating a tuple with fruits\n",
        "fruits = (\"apple\", \"banana\", \"orange\")\n",
        "\n",
        "# Checking if \"kiwi\" is in the tuple\n",
        "if \"kiwi\" in fruits:\n",
        "    print(\"Kiwi is in the tuple.\")\n",
        "else:\n",
        "    print(\"Kiwi is not in the tuple.\")\n"
      ],
      "metadata": {
        "colab": {
          "base_uri": "https://localhost:8080/"
        },
        "id": "pz0EZgUPa8Hr",
        "outputId": "b26e3bd7-7b37-4854-f4f7-7d13733a4047"
      },
      "execution_count": null,
      "outputs": [
        {
          "output_type": "stream",
          "name": "stdout",
          "text": [
            "Kiwi is not in the tuple.\n"
          ]
        }
      ]
    },
    {
      "cell_type": "markdown",
      "source": [
        "###Q16. Write a code to create a set with the elements 'a', 'b', 'c' and print it."
      ],
      "metadata": {
        "id": "nXmg0nCJbT6S"
      }
    },
    {
      "cell_type": "code",
      "source": [
        "# Creating a set with elements 'a', 'b', 'c'\n",
        "my_set = {'a', 'b', 'c'}\n",
        "\n",
        "# Printing the set\n",
        "print(\"Set is:\", my_set)\n"
      ],
      "metadata": {
        "colab": {
          "base_uri": "https://localhost:8080/"
        },
        "id": "f5ghjinIcADs",
        "outputId": "0e080391-a9f0-4dcf-f969-1cf816dca6d3"
      },
      "execution_count": null,
      "outputs": [
        {
          "output_type": "stream",
          "name": "stdout",
          "text": [
            "Set is: {'b', 'c', 'a'}\n"
          ]
        }
      ]
    },
    {
      "cell_type": "markdown",
      "source": [
        "###Q17.  Write a code to clear all elements from the set {1, 2, 3, 4, 5}."
      ],
      "metadata": {
        "id": "c2vQ4xJMcCce"
      }
    },
    {
      "cell_type": "code",
      "source": [
        "# Creating a set with elements\n",
        "numbers = {1, 2, 3, 4, 5}\n",
        "\n",
        "# Clearing all elements from the set\n",
        "numbers.clear()\n",
        "\n",
        "# Printing the cleared set\n",
        "print(\"Set after clearing:\", numbers)\n"
      ],
      "metadata": {
        "colab": {
          "base_uri": "https://localhost:8080/"
        },
        "id": "wAQl9ydlcJXd",
        "outputId": "a13e66d5-45a5-4356-b566-34f9d3ad68ed"
      },
      "execution_count": null,
      "outputs": [
        {
          "output_type": "stream",
          "name": "stdout",
          "text": [
            "Set after clearing: set()\n"
          ]
        }
      ]
    },
    {
      "cell_type": "markdown",
      "source": [
        "###Q18. Write a code to remove the element 4 from the set {1, 2, 3, 4}."
      ],
      "metadata": {
        "id": "s3R1ObM2cPKb"
      }
    },
    {
      "cell_type": "code",
      "source": [
        "# Creating a set with elements\n",
        "numbers = {1, 2, 3, 4}\n",
        "\n",
        "# Removing the element 4 from the set\n",
        "numbers.remove(4)\n",
        "\n",
        "# Printing the updated set\n",
        "print(\"Set after removing 4:\", numbers)\n"
      ],
      "metadata": {
        "colab": {
          "base_uri": "https://localhost:8080/"
        },
        "id": "wYoznHP1ckdC",
        "outputId": "1df2e7ef-b560-495c-c1c8-bb45aea45d57"
      },
      "execution_count": null,
      "outputs": [
        {
          "output_type": "stream",
          "name": "stdout",
          "text": [
            "Set after removing 4: {1, 2, 3}\n"
          ]
        }
      ]
    },
    {
      "cell_type": "markdown",
      "source": [
        "###Q19. Write a code to find the union of two sets {1, 2, 3} and {3, 4, 5}."
      ],
      "metadata": {
        "id": "24Dv0nnccndg"
      }
    },
    {
      "cell_type": "code",
      "source": [
        "# Defining two sets\n",
        "set1 = {1, 2, 3}\n",
        "set2 = {3, 4, 5}\n",
        "\n",
        "# Finding the union of the two sets\n",
        "union_set = set1.union(set2)\n",
        "\n",
        "# Printing the result\n",
        "print(\"Union of the sets:\", union_set)\n"
      ],
      "metadata": {
        "colab": {
          "base_uri": "https://localhost:8080/"
        },
        "id": "v47K3Mr7c1T3",
        "outputId": "b0933b63-65b5-4915-ba46-d7e71ba91279"
      },
      "execution_count": null,
      "outputs": [
        {
          "output_type": "stream",
          "name": "stdout",
          "text": [
            "Union of the sets: {1, 2, 3, 4, 5}\n"
          ]
        }
      ]
    },
    {
      "cell_type": "markdown",
      "source": [
        "###Q20. Write a code to find the intersection of two sets {1, 2, 3} and {2, 3, 4}."
      ],
      "metadata": {
        "id": "ozUcMdrTc8Ig"
      }
    },
    {
      "cell_type": "code",
      "source": [
        "# Defining two sets\n",
        "set1 = {1, 2, 3}\n",
        "set2 = {2, 3, 4}\n",
        "\n",
        "# Finding the intersection of the two sets\n",
        "intersection_set = set1.intersection(set2)\n",
        "\n",
        "# Printing the result\n",
        "print(\"Intersection of the sets:\", intersection_set)\n"
      ],
      "metadata": {
        "colab": {
          "base_uri": "https://localhost:8080/"
        },
        "id": "WoSsQGgydBYO",
        "outputId": "fa8dee34-9662-4f60-e0dc-79758c413327"
      },
      "execution_count": null,
      "outputs": [
        {
          "output_type": "stream",
          "name": "stdout",
          "text": [
            "Intersection of the sets: {2, 3}\n"
          ]
        }
      ]
    },
    {
      "cell_type": "markdown",
      "source": [
        "###Q21. Write a code to create a dictionary with the keys \"name\", \"age\", and \"city\", and print it\n"
      ],
      "metadata": {
        "id": "CD8k7FXYdLNS"
      }
    },
    {
      "cell_type": "code",
      "source": [
        "# Creating a dictionary with keys \"name\", \"age\", and \"city\"\n",
        "person = {\n",
        "    \"name\": \"sahil\",\n",
        "    \"age\": 23,\n",
        "    \"city\": \"New York\"\n",
        "}\n",
        "\n",
        "# Printing the dictionary\n",
        "print(\"Dictionary:\", person)\n"
      ],
      "metadata": {
        "colab": {
          "base_uri": "https://localhost:8080/"
        },
        "id": "xNIh0zordZTh",
        "outputId": "50484765-5bbd-42cb-8cf8-196a17b1456d"
      },
      "execution_count": null,
      "outputs": [
        {
          "output_type": "stream",
          "name": "stdout",
          "text": [
            "Dictionary: {'name': 'sahil', 'age': 23, 'city': 'New York'}\n"
          ]
        }
      ]
    },
    {
      "cell_type": "markdown",
      "source": [
        "###Q22. Write a code to add a new key-value pair \"country\": \"USA\" to the dictionary {'name': 'John', 'age': 25}."
      ],
      "metadata": {
        "id": "iQgLpyuVdiLQ"
      }
    },
    {
      "cell_type": "code",
      "source": [
        "# Existing dictionary\n",
        "person = {'name': 'John', 'age': 25}\n",
        "\n",
        "# Adding a new key-value pair\n",
        "person['country'] = 'USA'\n",
        "\n",
        "# Printing the updated dictionary\n",
        "print(\"Updated dictionary:\", person)\n"
      ],
      "metadata": {
        "colab": {
          "base_uri": "https://localhost:8080/"
        },
        "id": "jti7Q6TpduSI",
        "outputId": "ab838b35-46a9-450e-c1c1-639fe3814aa2"
      },
      "execution_count": null,
      "outputs": [
        {
          "output_type": "stream",
          "name": "stdout",
          "text": [
            "Updated dictionary: {'name': 'John', 'age': 25, 'country': 'USA'}\n"
          ]
        }
      ]
    },
    {
      "cell_type": "markdown",
      "source": [
        "###Q23.  Write a code to access the value associated with the key \"name\" in the dictionary {'name': 'Alice', 'age': 30}."
      ],
      "metadata": {
        "id": "KHHPSVZDdwj2"
      }
    },
    {
      "cell_type": "code",
      "source": [
        "# Defining the dictionary\n",
        "person = {'name': 'Alice', 'age': 30}\n",
        "\n",
        "# Accessing the value for the key \"name\"\n",
        "name_value = person['name']\n",
        "\n",
        "# Printing the value\n",
        "print(\"Value associated with 'name':\", name_value)\n"
      ],
      "metadata": {
        "colab": {
          "base_uri": "https://localhost:8080/"
        },
        "id": "-hF1YzwfeYun",
        "outputId": "1a27ec49-0893-4a0a-eb6d-23aeca97b0cc"
      },
      "execution_count": null,
      "outputs": [
        {
          "output_type": "stream",
          "name": "stdout",
          "text": [
            "Value associated with 'name': Alice\n"
          ]
        }
      ]
    },
    {
      "cell_type": "markdown",
      "source": [
        "###Q24.  Write a code to remove the key \"age\" from the dictionary {'name': 'Bob', 'age': 22, 'city': 'New York'}."
      ],
      "metadata": {
        "id": "Cv0opNwTeeHL"
      }
    },
    {
      "cell_type": "code",
      "source": [
        "# Creating the dictionary\n",
        "person = {'name': 'Bob', 'age': 22, 'city': 'New York'}\n",
        "\n",
        "# Removing the key \"age\"\n",
        "del person['age']\n",
        "\n",
        "# Printing the updated dictionary\n",
        "print(\"Updated dictionary:\", person)\n"
      ],
      "metadata": {
        "colab": {
          "base_uri": "https://localhost:8080/"
        },
        "id": "f3sQKQ-MeqfR",
        "outputId": "5a7605bb-818b-4c4a-d909-a1abd433a2cc"
      },
      "execution_count": null,
      "outputs": [
        {
          "output_type": "stream",
          "name": "stdout",
          "text": [
            "Updated dictionary: {'name': 'Bob', 'city': 'New York'}\n"
          ]
        }
      ]
    },
    {
      "cell_type": "markdown",
      "source": [
        "###Q25.  Write a code to check if the key \"city\" exists in the dictionary {'name': 'Alice', 'city': 'Paris'}."
      ],
      "metadata": {
        "id": "4b37KF6les_I"
      }
    },
    {
      "cell_type": "code",
      "source": [
        "# Creating the dictionary\n",
        "person = {'name': 'Alice', 'city': 'Paris'}\n",
        "\n",
        "# Checking if the key \"city\" exists in the dictionary\n",
        "if \"city\" in person:\n",
        "    print(\"The key 'city' exists in the dictionary.\")\n",
        "else:\n",
        "    print(\"The key 'city' does not exist in the dictionary.\")\n"
      ],
      "metadata": {
        "colab": {
          "base_uri": "https://localhost:8080/"
        },
        "id": "l5kzW9kee2YY",
        "outputId": "034e86e9-19e1-41ef-c4ee-abe7882335a4"
      },
      "execution_count": null,
      "outputs": [
        {
          "output_type": "stream",
          "name": "stdout",
          "text": [
            "The key 'city' exists in the dictionary.\n"
          ]
        }
      ]
    },
    {
      "cell_type": "markdown",
      "source": [
        "###Q26.  Write a code to create a list, a tuple, and a dictionary, and print them all."
      ],
      "metadata": {
        "id": "3jLu-kARe8c4"
      }
    },
    {
      "cell_type": "code",
      "source": [
        "# Creating a list\n",
        "my_list = [1, 2, 3, 4, 5]\n",
        "\n",
        "# Creating a tuple\n",
        "my_tuple = (10, 20, 30, 40, 50)\n",
        "\n",
        "# Creating a dictionary\n",
        "my_dict = {'name': 'Alice', 'age': 30, 'city': 'New York'}\n",
        "\n",
        "# Printing the list, tuple, and dictionary\n",
        "print(\"List:\", my_list)\n",
        "print(\"Tuple:\", my_tuple)\n",
        "print(\"Dictionary:\", my_dict)\n"
      ],
      "metadata": {
        "colab": {
          "base_uri": "https://localhost:8080/"
        },
        "id": "Q61P0VWxfCom",
        "outputId": "2273df96-abd1-476a-a206-00ff90cc2ff3"
      },
      "execution_count": null,
      "outputs": [
        {
          "output_type": "stream",
          "name": "stdout",
          "text": [
            "List: [1, 2, 3, 4, 5]\n",
            "Tuple: (10, 20, 30, 40, 50)\n",
            "Dictionary: {'name': 'Alice', 'age': 30, 'city': 'New York'}\n"
          ]
        }
      ]
    },
    {
      "cell_type": "markdown",
      "source": [
        "###Q27.  Write a code to create a list of 5 random numbers between 1 and 100, sort it in ascending order, and print the result.(Replaced)"
      ],
      "metadata": {
        "id": "ZngDLfjwfSXn"
      }
    },
    {
      "cell_type": "code",
      "source": [
        "import random\n",
        "\n",
        "# Creating a list of 5 random numbers between 1 and 100\n",
        "random_numbers = [random.randint(1, 100) for _ in range(5)]\n",
        "\n",
        "# Sorting the list in ascending order\n",
        "random_numbers.sort()\n",
        "\n",
        "# Printing the sorted list\n",
        "print(\"Sorted list of random numbers:\", random_numbers)\n"
      ],
      "metadata": {
        "colab": {
          "base_uri": "https://localhost:8080/"
        },
        "id": "aRTC1NuLfwHN",
        "outputId": "385857f9-43eb-49f4-95fc-a9fa29b17155"
      },
      "execution_count": null,
      "outputs": [
        {
          "output_type": "stream",
          "name": "stdout",
          "text": [
            "Sorted list of random numbers: [33, 53, 58, 76, 86]\n"
          ]
        }
      ]
    },
    {
      "cell_type": "markdown",
      "source": [
        "###Q28. Write a code to create a list with strings and print the element at the third index."
      ],
      "metadata": {
        "id": "m5DFdluqf08_"
      }
    },
    {
      "cell_type": "code",
      "source": [
        "# Creating a list with strings\n",
        "string_list = [\"apple\", \"banana\", \"cherry\", \"date\", \"elderberry\"]\n",
        "\n",
        "# Accessing the element at the third index (indexing starts at 0)\n",
        "third_element = string_list[3]\n",
        "\n",
        "# Printing the element at the third index\n",
        "print(\"Element at the third index:\", third_element)\n"
      ],
      "metadata": {
        "colab": {
          "base_uri": "https://localhost:8080/"
        },
        "id": "AXTXDkW2gGVc",
        "outputId": "94735d12-8ac5-4cac-e6b5-36665243d084"
      },
      "execution_count": null,
      "outputs": [
        {
          "output_type": "stream",
          "name": "stdout",
          "text": [
            "Element at the third index: date\n"
          ]
        }
      ]
    },
    {
      "cell_type": "markdown",
      "source": [
        "###Q29.  Write a code to combine two dictionaries into one and print the result."
      ],
      "metadata": {
        "id": "6IbhJ_0kgH61"
      }
    },
    {
      "cell_type": "code",
      "source": [
        "# Defining two dictionaries\n",
        "dict1 = {'name': 'Alice', 'age': 25}\n",
        "dict2 = {'city': 'New York', 'job': 'Engineer'}\n",
        "\n",
        "# Combining the two dictionaries using the update() method\n",
        "dict1.update(dict2)\n",
        "\n",
        "# Printing the combined dictionary\n",
        "print(\"Combined dictionary:\", dict1)\n"
      ],
      "metadata": {
        "colab": {
          "base_uri": "https://localhost:8080/"
        },
        "id": "YMIvfbwWgRxy",
        "outputId": "7f05d97c-a169-42d4-f195-69b879f47eca"
      },
      "execution_count": null,
      "outputs": [
        {
          "output_type": "stream",
          "name": "stdout",
          "text": [
            "Combined dictionary: {'name': 'Alice', 'age': 25, 'city': 'New York', 'job': 'Engineer'}\n"
          ]
        }
      ]
    },
    {
      "cell_type": "markdown",
      "source": [
        "###Q30. Write a code to convert a list of strings into a set."
      ],
      "metadata": {
        "id": "lFgxPVs6gWuk"
      }
    },
    {
      "cell_type": "code",
      "source": [
        "# Let's say we have a list of strings representing different types of animals\n",
        "animal_list = [\"dog\", \"cat\", \"rabbit\", \"dog\", \"elephant\"]\n",
        "\n",
        "# Converting this list into a set to remove duplicates\n",
        "animal_set = set(animal_list)\n",
        "\n",
        "# Printing the resulting set\n",
        "print(\"Converted set:\", animal_set)\n"
      ],
      "metadata": {
        "colab": {
          "base_uri": "https://localhost:8080/"
        },
        "id": "mi77haKdgtTU",
        "outputId": "0614a414-91df-4085-f39c-943668a9917a"
      },
      "execution_count": null,
      "outputs": [
        {
          "output_type": "stream",
          "name": "stdout",
          "text": [
            "Converted set: {'cat', 'dog', 'rabbit', 'elephant'}\n"
          ]
        }
      ]
    },
    {
      "cell_type": "markdown",
      "source": [],
      "metadata": {
        "id": "npyxz68iR8di"
      }
    }
  ]
}